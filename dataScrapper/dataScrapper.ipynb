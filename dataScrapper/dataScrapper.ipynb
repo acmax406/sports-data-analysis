{
 "cells": [
  {
   "cell_type": "code",
   "execution_count": 5,
   "metadata": {},
   "outputs": [
    {
     "name": "stderr",
     "output_type": "stream",
     "text": [
      "C:\\Users\\Anand\\AppData\\Local\\Temp\\ipykernel_9324\\214777833.py:9: DeprecationWarning: executable_path has been deprecated, please pass in a Service object\n",
      "  driver= webdriver.Edge(\"C:/Users/Anand/Documents/project/msedgedriver.exe\")\n"
     ]
    }
   ],
   "source": [
    "from selenium import webdriver\n",
    "from selenium.webdriver.common.by import By\n",
    "from selenium.webdriver.support.ui import WebDriverWait\n",
    "from selenium.webdriver.support import expected_conditions as EC \n",
    "from selenium.common.exceptions import TimeoutException\n",
    "import pandas as pd\n",
    "\n",
    "\n",
    "driver= webdriver.Edge(\"C:/Users/Anand/Documents/project/msedgedriver.exe\")\n",
    "driver.get(\"https://www.iplt20.com/stats/\")"
   ]
  },
  {
   "cell_type": "code",
   "execution_count": null,
   "metadata": {},
   "outputs": [],
   "source": [
    "filter=driver.find_element_by_xpath(\"//div[@class='np-battingtable__filter vn-sheduleFilter statsFilterIcon']\")\n",
    "filter.click()\n",
    "selected_team= driver.find_element_by_xpath(\"/html/body/div[3]/div/div/form/div[2]/div[1]/ul/li[4]/label\")\n",
    "selected_team.click()\n"
   ]
  },
  {
   "cell_type": "code",
   "execution_count": 2,
   "metadata": {},
   "outputs": [],
   "source": [
    "driver.implicitly_wait(2)"
   ]
  },
  {
   "cell_type": "code",
   "execution_count": null,
   "metadata": {},
   "outputs": [],
   "source": [
    "\n",
    "import time \n",
    "years= driver.find_elements_by_xpath(\"//label[@ng-click='statsfilterBySeason(list)'][@class='ng-binding']\")\n",
    "df= pd.DataFrame()\n",
    "for year in years:\n",
    "    time.sleep(1.5)\n",
    "    if not year.is_displayed():\n",
    "        filter=driver.find_element_by_xpath(\"//div[@class='np-battingtable__filter vn-sheduleFilter statsFilterIcon']\")\n",
    "        filter.click()\n",
    "    print(year.text)\n",
    "    filename=year.text\n",
    "    year.click()\n",
    "    pd.read_html(driver.page_source)\n",
    "    season=pd.read_html(driver.page_source)[0]\n",
    "    season.to_csv(r\"MI\"+ filename +'.csv',index=False)\n",
    "\n",
    "\n",
    "\n",
    "\n"
   ]
  }
 ],
 "metadata": {
  "interpreter": {
   "hash": "b38db2c46f1df8fa36ad7a8374aba80751db622fe280c5d36339e22a28850122"
  },
  "kernelspec": {
   "display_name": "Python 3.10.3 64-bit",
   "language": "python",
   "name": "python3"
  },
  "language_info": {
   "codemirror_mode": {
    "name": "ipython",
    "version": 3
   },
   "file_extension": ".py",
   "mimetype": "text/x-python",
   "name": "python",
   "nbconvert_exporter": "python",
   "pygments_lexer": "ipython3",
   "version": "3.10.3"
  },
  "orig_nbformat": 4
 },
 "nbformat": 4,
 "nbformat_minor": 2
}
